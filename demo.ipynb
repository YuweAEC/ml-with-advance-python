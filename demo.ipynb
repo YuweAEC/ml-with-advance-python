{
 "cells": [
  {
   "cell_type": "code",
   "execution_count": null,
   "id": "2fe45cf5-87ae-4ff3-b96e-bc422ea57bee",
   "metadata": {},
   "outputs": [],
   "source": [
    "spc_char= random.choice(string.punctuation)"
   ]
  },
  {
   "cell_type": "code",
   "execution_count": null,
   "id": "ec0afe4d-caab-4f37-bd29-5a974f0c8b9c",
   "metadata": {},
   "outputs": [],
   "source": [
    "adjectives=['sleepy','slow','smelly','wet','fatty','proud']\n",
    "nouns=['apple','dragon','purple','panda','lion','tiger']\n",
    "spc_char=random.choice(string.punctuation)\n",
    "print('welcome to password picker...!')\n",
    "while True:\n",
    "    adjective=random.choice(adjectives)\n",
    "    noun=random.choice(nouns)\n",
    "    number=random.randrange(0,100)\n",
    "    password=adjective+noun+str(number)+spc_char\n",
    "    print(\"Your passsword is :-\", password)\n",
    "    response=input(\"\"\"would you like to another password?type y oe n:\"\"\")\n",
    "    if response=='n':\n",
    "        break\n",
    "    "
   ]
  }
 ],
 "metadata": {
  "kernelspec": {
   "display_name": "Python 3 (ipykernel)",
   "language": "python",
   "name": "python3"
  },
  "language_info": {
   "codemirror_mode": {
    "name": "ipython",
    "version": 3
   },
   "file_extension": ".py",
   "mimetype": "text/x-python",
   "name": "python",
   "nbconvert_exporter": "python",
   "pygments_lexer": "ipython3",
   "version": "3.12.4"
  }
 },
 "nbformat": 4,
 "nbformat_minor": 5
}
