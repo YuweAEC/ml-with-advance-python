{
 "cells": [
  {
   "cell_type": "markdown",
   "id": "7c673456-82e8-4d1d-af25-09a47a83889d",
   "metadata": {},
   "source": [
    "### <font color=\"red\"> Numpy is a python library , stands for numerical python. it containd a collection of tools and techniques that can be used to solve on a computer mathematical models of problems"
   ]
  },
  {
   "cell_type": "code",
   "execution_count": 2,
   "id": "b54c5923-c2c5-4e6a-8ff5-52b4f49ee92e",
   "metadata": {},
   "outputs": [],
   "source": [
    "import numpy as np"
   ]
  },
  {
   "cell_type": "code",
   "execution_count": 6,
   "id": "a7e9584d-aee0-40b5-b497-28566cd2b046",
   "metadata": {},
   "outputs": [
    {
     "name": "stdout",
     "output_type": "stream",
     "text": [
      "1.26.4\n"
     ]
    }
   ],
   "source": [
    "print(np.__version__)"
   ]
  },
  {
   "cell_type": "code",
   "execution_count": 8,
   "id": "af41dbbc-deb1-4dbd-96c2-352cd2646cb2",
   "metadata": {},
   "outputs": [
    {
     "name": "stdout",
     "output_type": "stream",
     "text": [
      "[1 2 3 4]\n",
      "<class 'numpy.ndarray'>\n"
     ]
    }
   ],
   "source": [
    "#printing of the one dimensional array \n",
    "a= np.array([1,2,3,4])\n",
    "print(a)\n",
    "print(type(a))"
   ]
  },
  {
   "cell_type": "code",
   "execution_count": 10,
   "id": "a3d1056e-c8ca-4af6-bf9e-7902f86374f1",
   "metadata": {},
   "outputs": [
    {
     "name": "stdout",
     "output_type": "stream",
     "text": [
      "<class 'numpy.ndarray'>\n",
      "[[1 2 3]\n",
      " [4 5 6]]\n"
     ]
    }
   ],
   "source": [
    "#printing of the 2nd dimensional arrya\n",
    "b=np.array([[1,2,3,],[4,5,6]])\n",
    "print(type(b))\n",
    "print(b)"
   ]
  },
  {
   "cell_type": "code",
   "execution_count": 16,
   "id": "930c1424-d939-489e-9e90-46d70492182d",
   "metadata": {},
   "outputs": [
    {
     "name": "stdout",
     "output_type": "stream",
     "text": [
      "<class 'numpy.ndarray'>\n",
      "[[[1 2]\n",
      "  [3 4]]\n",
      "\n",
      " [[5 6]\n",
      "  [7 8]]]\n"
     ]
    }
   ],
   "source": [
    "#printing of the 3rd dimensional array\n",
    "c=np.array([[[1,2],[3,4]],[[5,6],[7,8]]])\n",
    "print(type(c))\n",
    "print(c)"
   ]
  },
  {
   "cell_type": "code",
   "execution_count": 20,
   "id": "714dddee-15bd-4127-a25e-d809408cba37",
   "metadata": {},
   "outputs": [
    {
     "name": "stdout",
     "output_type": "stream",
     "text": [
      "1\n",
      "2\n",
      "3\n"
     ]
    }
   ],
   "source": [
    "#dimnesion of the array checking \n",
    "print(a.ndim)\n",
    "print(b.ndim)\n",
    "print(c.ndim)\n"
   ]
  },
  {
   "cell_type": "markdown",
   "id": "046b6d02-d7b1-401b-96b2-13235e47881b",
   "metadata": {},
   "source": [
    "### shape - it return the shape of an array in tuple , it can also be used to resize the array "
   ]
  },
  {
   "cell_type": "code",
   "execution_count": 23,
   "id": "9dd0c552-7110-4f65-9789-14b07d6c2e91",
   "metadata": {},
   "outputs": [
    {
     "name": "stdout",
     "output_type": "stream",
     "text": [
      "(4,)\n",
      "(2, 3)\n",
      "(2, 2, 2)\n"
     ]
    }
   ],
   "source": [
    "print(a.shape)\n",
    "print(b.shape)\n",
    "print(c.shape)"
   ]
  },
  {
   "cell_type": "markdown",
   "id": "4a09acb4-4108-4a4e-be7b-0b0c41303280",
   "metadata": {},
   "source": [
    "### length - it return an array for n dimension , it return size of the first dimension\n"
   ]
  },
  {
   "cell_type": "code",
   "execution_count": 26,
   "id": "98f8f924-ad2a-4764-83ce-6183e428a66e",
   "metadata": {},
   "outputs": [
    {
     "name": "stdout",
     "output_type": "stream",
     "text": [
      "4\n",
      "2\n",
      "2\n"
     ]
    }
   ],
   "source": [
    "print(len(a))\n",
    "print(len(b))\n",
    "print(len(c))"
   ]
  },
  {
   "cell_type": "markdown",
   "id": "e6e80094-d10b-43a3-bcd9-3e60fcafceab",
   "metadata": {},
   "source": [
    "### dtype = it returns the datatype of an array"
   ]
  },
  {
   "cell_type": "code",
   "execution_count": 37,
   "id": "a3f387a9-c14a-4f72-a66e-78502523b378",
   "metadata": {},
   "outputs": [
    {
     "name": "stdout",
     "output_type": "stream",
     "text": [
      "int32\n",
      "int32\n",
      "int32\n",
      "complex128\n",
      "[1.+0.j 2.+0.j 3.+0.j 4.+0.j]\n"
     ]
    }
   ],
   "source": [
    "d=np.array([1,2,3,4],dtype='complex')\n",
    "print(a.dtype)\n",
    "print(b.dtype)\n",
    "print(c.dtype)\n",
    "print(d.dtype)\n",
    "print(d)"
   ]
  },
  {
   "cell_type": "markdown",
   "id": "0f632456-ee5a-4a49-95dd-3a86a2a56443",
   "metadata": {},
   "source": [
    "### size - it return the total nuber of the element inside the array "
   ]
  },
  {
   "cell_type": "code",
   "execution_count": 40,
   "id": "c6559c59-c0e2-499c-a805-dc0245ea24dc",
   "metadata": {},
   "outputs": [
    {
     "name": "stdout",
     "output_type": "stream",
     "text": [
      "4\n",
      "6\n",
      "8\n"
     ]
    }
   ],
   "source": [
    "print(a.size)\n",
    "print(b.size)\n",
    "print(c.size)"
   ]
  },
  {
   "cell_type": "markdown",
   "id": "55030939-0bb4-4b5a-a23e-11e648709735",
   "metadata": {},
   "source": [
    "### itemsize- it return elements of an array in bytes size"
   ]
  },
  {
   "cell_type": "code",
   "execution_count": 43,
   "id": "0b4914c1-347c-4b0a-a5e9-8fc947fefef3",
   "metadata": {},
   "outputs": [
    {
     "name": "stdout",
     "output_type": "stream",
     "text": [
      "4\n",
      "4\n",
      "4\n"
     ]
    }
   ],
   "source": [
    "print(a.itemsize)\n",
    "print(b.itemsize)\n",
    "print(c.itemsize)"
   ]
  },
  {
   "cell_type": "code",
   "execution_count": null,
   "id": "fcfd2eba-eb6e-426e-91e2-fd16378299b4",
   "metadata": {},
   "outputs": [],
   "source": []
  }
 ],
 "metadata": {
  "kernelspec": {
   "display_name": "Python 3 (ipykernel)",
   "language": "python",
   "name": "python3"
  },
  "language_info": {
   "codemirror_mode": {
    "name": "ipython",
    "version": 3
   },
   "file_extension": ".py",
   "mimetype": "text/x-python",
   "name": "python",
   "nbconvert_exporter": "python",
   "pygments_lexer": "ipython3",
   "version": "3.12.4"
  }
 },
 "nbformat": 4,
 "nbformat_minor": 5
}
