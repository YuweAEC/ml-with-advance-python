{
 "cells": [
  {
   "cell_type": "markdown",
   "id": "7c673456-82e8-4d1d-af25-09a47a83889d",
   "metadata": {},
   "source": [
    "### <font color=\"red\"> Numpy is a python library , stands for numerical python. it containd a collection of tools and techniques that can be used to solve on a computer mathematical models of problems"
   ]
  },
  {
   "cell_type": "code",
   "execution_count": 2,
   "id": "b54c5923-c2c5-4e6a-8ff5-52b4f49ee92e",
   "metadata": {},
   "outputs": [],
   "source": [
    "import numpy as np"
   ]
  },
  {
   "cell_type": "code",
   "execution_count": 6,
   "id": "a7e9584d-aee0-40b5-b497-28566cd2b046",
   "metadata": {},
   "outputs": [
    {
     "name": "stdout",
     "output_type": "stream",
     "text": [
      "1.26.4\n"
     ]
    }
   ],
   "source": [
    "print(np.__version__)"
   ]
  },
  {
   "cell_type": "code",
   "execution_count": 8,
   "id": "af41dbbc-deb1-4dbd-96c2-352cd2646cb2",
   "metadata": {},
   "outputs": [
    {
     "name": "stdout",
     "output_type": "stream",
     "text": [
      "[1 2 3 4]\n",
      "<class 'numpy.ndarray'>\n"
     ]
    }
   ],
   "source": [
    "#printing of the one dimensional array \n",
    "a= np.array([1,2,3,4])\n",
    "print(a)\n",
    "print(type(a))"
   ]
  },
  {
   "cell_type": "code",
   "execution_count": 10,
   "id": "a3d1056e-c8ca-4af6-bf9e-7902f86374f1",
   "metadata": {},
   "outputs": [
    {
     "name": "stdout",
     "output_type": "stream",
     "text": [
      "<class 'numpy.ndarray'>\n",
      "[[1 2 3]\n",
      " [4 5 6]]\n"
     ]
    }
   ],
   "source": [
    "#printing of the 2nd dimensional arrya\n",
    "b=np.array([[1,2,3,],[4,5,6]])\n",
    "print(type(b))\n",
    "print(b)"
   ]
  },
  {
   "cell_type": "code",
   "execution_count": 16,
   "id": "930c1424-d939-489e-9e90-46d70492182d",
   "metadata": {},
   "outputs": [
    {
     "name": "stdout",
     "output_type": "stream",
     "text": [
      "<class 'numpy.ndarray'>\n",
      "[[[1 2]\n",
      "  [3 4]]\n",
      "\n",
      " [[5 6]\n",
      "  [7 8]]]\n"
     ]
    }
   ],
   "source": [
    "#printing of the 3rd dimensional array\n",
    "c=np.array([[[1,2],[3,4]],[[5,6],[7,8]]])\n",
    "print(type(c))\n",
    "print(c)"
   ]
  },
  {
   "cell_type": "code",
   "execution_count": 20,
   "id": "714dddee-15bd-4127-a25e-d809408cba37",
   "metadata": {},
   "outputs": [
    {
     "name": "stdout",
     "output_type": "stream",
     "text": [
      "1\n",
      "2\n",
      "3\n"
     ]
    }
   ],
   "source": [
    "#dimnesion of the array checking \n",
    "print(a.ndim)\n",
    "print(b.ndim)\n",
    "print(c.ndim)\n"
   ]
  },
  {
   "cell_type": "markdown",
   "id": "046b6d02-d7b1-401b-96b2-13235e47881b",
   "metadata": {},
   "source": [
    "### shape - it return the shape of an array in tuple , it can also be used to resize the array "
   ]
  },
  {
   "cell_type": "code",
   "execution_count": 23,
   "id": "9dd0c552-7110-4f65-9789-14b07d6c2e91",
   "metadata": {},
   "outputs": [
    {
     "name": "stdout",
     "output_type": "stream",
     "text": [
      "(4,)\n",
      "(2, 3)\n",
      "(2, 2, 2)\n"
     ]
    }
   ],
   "source": [
    "print(a.shape)\n",
    "print(b.shape)\n",
    "print(c.shape)"
   ]
  },
  {
   "cell_type": "markdown",
   "id": "4a09acb4-4108-4a4e-be7b-0b0c41303280",
   "metadata": {},
   "source": [
    "### length - it return an array for n dimension , it return size of the first dimension\n"
   ]
  },
  {
   "cell_type": "code",
   "execution_count": 26,
   "id": "98f8f924-ad2a-4764-83ce-6183e428a66e",
   "metadata": {},
   "outputs": [
    {
     "name": "stdout",
     "output_type": "stream",
     "text": [
      "4\n",
      "2\n",
      "2\n"
     ]
    }
   ],
   "source": [
    "print(len(a))\n",
    "print(len(b))\n",
    "print(len(c))"
   ]
  },
  {
   "cell_type": "markdown",
   "id": "e6e80094-d10b-43a3-bcd9-3e60fcafceab",
   "metadata": {},
   "source": [
    "### dtype = it returns the datatype of an array"
   ]
  },
  {
   "cell_type": "code",
   "execution_count": 37,
   "id": "a3f387a9-c14a-4f72-a66e-78502523b378",
   "metadata": {},
   "outputs": [
    {
     "name": "stdout",
     "output_type": "stream",
     "text": [
      "int32\n",
      "int32\n",
      "int32\n",
      "complex128\n",
      "[1.+0.j 2.+0.j 3.+0.j 4.+0.j]\n"
     ]
    }
   ],
   "source": [
    "d=np.array([1,2,3,4],dtype='complex')\n",
    "print(a.dtype)\n",
    "print(b.dtype)\n",
    "print(c.dtype)\n",
    "print(d.dtype)\n",
    "print(d)"
   ]
  },
  {
   "cell_type": "markdown",
   "id": "0f632456-ee5a-4a49-95dd-3a86a2a56443",
   "metadata": {},
   "source": [
    "### size - it return the total nuber of the element inside the array "
   ]
  },
  {
   "cell_type": "code",
   "execution_count": 40,
   "id": "c6559c59-c0e2-499c-a805-dc0245ea24dc",
   "metadata": {},
   "outputs": [
    {
     "name": "stdout",
     "output_type": "stream",
     "text": [
      "4\n",
      "6\n",
      "8\n"
     ]
    }
   ],
   "source": [
    "print(a.size)\n",
    "print(b.size)\n",
    "print(c.size)"
   ]
  },
  {
   "cell_type": "markdown",
   "id": "55030939-0bb4-4b5a-a23e-11e648709735",
   "metadata": {},
   "source": [
    "### itemsize- it return elements of an array in bytes size"
   ]
  },
  {
   "cell_type": "code",
   "execution_count": 43,
   "id": "0b4914c1-347c-4b0a-a5e9-8fc947fefef3",
   "metadata": {},
   "outputs": [
    {
     "name": "stdout",
     "output_type": "stream",
     "text": [
      "4\n",
      "4\n",
      "4\n"
     ]
    }
   ],
   "source": [
    "print(a.itemsize)\n",
    "print(b.itemsize)\n",
    "print(c.itemsize)"
   ]
  },
  {
   "cell_type": "markdown",
   "id": "c15f05e6-683d-4214-8463-39b0f5668677",
   "metadata": {},
   "source": [
    "### why using number "
   ]
  },
  {
   "cell_type": "code",
   "execution_count": 50,
   "id": "7487098d-4ea9-4b80-a125-30e39047e62f",
   "metadata": {},
   "outputs": [
    {
     "name": "stdout",
     "output_type": "stream",
     "text": [
      "9.95 μs ± 339 ns per loop (mean ± std. dev. of 7 runs, 100,000 loops each)\n"
     ]
    }
   ],
   "source": [
    "#creating of the cube number from 1 to 100\n",
    "%timeit cube=[i**3 for i in range(100)]"
   ]
  },
  {
   "cell_type": "code",
   "execution_count": 52,
   "id": "edc0b540-40d2-4d57-803e-cd86834af2dd",
   "metadata": {},
   "outputs": [
    {
     "name": "stdout",
     "output_type": "stream",
     "text": [
      "1.71 μs ± 154 ns per loop (mean ± std. dev. of 7 runs, 1,000,000 loops each)\n"
     ]
    }
   ],
   "source": [
    "num=np.arange(100)\n",
    "%timeit num**3"
   ]
  },
  {
   "cell_type": "code",
   "execution_count": 54,
   "id": "079c390e-2fe1-47b1-9ba5-c47c74ead748",
   "metadata": {},
   "outputs": [],
   "source": [
    "#checking of the space"
   ]
  },
  {
   "cell_type": "code",
   "execution_count": 56,
   "id": "2d71314f-fadc-4194-a173-4928449e9379",
   "metadata": {},
   "outputs": [
    {
     "name": "stdout",
     "output_type": "stream",
     "text": [
      "Memory space in list  92000\n"
     ]
    }
   ],
   "source": [
    "import sys\n",
    "cube= [i**3 for i in range(100)]\n",
    "print(\"Memory space in list \",sys.getsizeof(cube)*len(cube))"
   ]
  },
  {
   "cell_type": "code",
   "execution_count": 64,
   "id": "d32c8447-c7c9-435f-a18a-dd57f7053da6",
   "metadata": {},
   "outputs": [
    {
     "name": "stdout",
     "output_type": "stream",
     "text": [
      "Memory allocated in numpy= 400\n"
     ]
    }
   ],
   "source": [
    "num=np.arange(100)\n",
    "cube=num**3\n",
    "print(\"Memory allocated in numpy=\",num.size*cube.itemsize)"
   ]
  },
  {
   "cell_type": "markdown",
   "id": "05de16db-8fb6-42b8-80ab-f80ffc07e61e",
   "metadata": {},
   "source": [
    "### Array creation using ones and zeros\n",
    "1. numpy.empty - return a new array of given space without initialising it\n"
   ]
  },
  {
   "cell_type": "code",
   "execution_count": 77,
   "id": "34cdfc40-1cf8-4621-a0ec-8c89ce61a5dd",
   "metadata": {},
   "outputs": [
    {
     "name": "stdout",
     "output_type": "stream",
     "text": [
      "[[0. 0. 0.]\n",
      " [0. 0. 0.]\n",
      " [0. 0. 0.]]\n"
     ]
    }
   ],
   "source": [
    "emp=np.empty((3,3))\n",
    "print(emp)"
   ]
  },
  {
   "cell_type": "markdown",
   "id": "b215dae5-401d-49a6-800e-ccb762dc0fb5",
   "metadata": {},
   "source": [
    "### numpy.zeros - return a new array of given shapes and type filled with zero"
   ]
  },
  {
   "cell_type": "code",
   "execution_count": 85,
   "id": "5f43d2a8-66a8-4516-bbad-a99b5cb07620",
   "metadata": {},
   "outputs": [
    {
     "name": "stdout",
     "output_type": "stream",
     "text": [
      "[[0. 0. 0. 0. 0.]\n",
      " [0. 0. 0. 0. 0.]\n",
      " [0. 0. 0. 0. 0.]\n",
      " [0. 0. 0. 0. 0.]\n",
      " [0. 0. 0. 0. 0.]]\n"
     ]
    }
   ],
   "source": [
    "z=np.zeros(shape=(5,5))\n",
    "print(z)"
   ]
  },
  {
   "cell_type": "markdown",
   "id": "ea18ab70-628f-4258-9ecf-fe41255e0ec5",
   "metadata": {},
   "source": [
    "### np.ones it returns a new aray yof givn shape with one filling"
   ]
  },
  {
   "cell_type": "code",
   "execution_count": 88,
   "id": "f6af0ec4-3e0b-44c6-8edc-59bb2c8d4238",
   "metadata": {},
   "outputs": [
    {
     "name": "stdout",
     "output_type": "stream",
     "text": [
      "[[1. 1. 1. 1.]\n",
      " [1. 1. 1. 1.]\n",
      " [1. 1. 1. 1.]\n",
      " [1. 1. 1. 1.]]\n"
     ]
    }
   ],
   "source": [
    "o=np.ones((4,4),dtype='float')\n",
    "print(o)"
   ]
  },
  {
   "cell_type": "markdown",
   "id": "3087b45a-20c2-46ba-a171-f1e8a50152fe",
   "metadata": {},
   "source": [
    "### np.eye- it return 2d array with 1 on the digonal and zeros elsewhere it is also called diagonal matrix"
   ]
  },
  {
   "cell_type": "code",
   "execution_count": 106,
   "id": "6b3a4374-cd5d-4e6a-9032-888db9dabc33",
   "metadata": {},
   "outputs": [
    {
     "name": "stdout",
     "output_type": "stream",
     "text": [
      "[[1 0 0 0]\n",
      " [0 1 0 0]\n",
      " [0 0 1 0]\n",
      " [0 0 0 1]]\n",
      "2\n"
     ]
    }
   ],
   "source": [
    "i=np.eye((4),dtype=np.uint16)\n",
    "print(i)\n",
    "print(i.itemsize)"
   ]
  },
  {
   "cell_type": "markdown",
   "id": "2efac719-899b-4088-b6eb-06205c4f1b14",
   "metadata": {},
   "source": [
    "### np.full it returns a new array of given shape and type filled with fill_value"
   ]
  },
  {
   "cell_type": "code",
   "execution_count": 109,
   "id": "2eacc1ce-2558-4a19-943b-a8495fd674ed",
   "metadata": {},
   "outputs": [
    {
     "name": "stdout",
     "output_type": "stream",
     "text": [
      "[[5. 5. 5. 5.]\n",
      " [5. 5. 5. 5.]\n",
      " [5. 5. 5. 5.]\n",
      " [5. 5. 5. 5.]]\n"
     ]
    }
   ],
   "source": [
    "f= np.full((4,4),fill_value=5,dtype='float32')\n",
    "print(f)"
   ]
  },
  {
   "cell_type": "markdown",
   "id": "fa3aeae8-5296-4905-8b73-75613fec4bff",
   "metadata": {},
   "source": [
    "### Array "
   ]
  },
  {
   "cell_type": "code",
   "execution_count": 115,
   "id": "cae42416-48bb-4c4d-9645-d99ba934de5c",
   "metadata": {},
   "outputs": [
    {
     "name": "stdout",
     "output_type": "stream",
     "text": [
      "[ 1  2  3  4  5  6  7  8  9 10]\n"
     ]
    }
   ],
   "source": [
    "a=np.arange(1,11)\n",
    "print(a)"
   ]
  },
  {
   "cell_type": "markdown",
   "id": "468b9cb7-7951-4620-94bc-d8fa18b65695",
   "metadata": {},
   "source": [
    "### using fo reshape it return new array of new shape"
   ]
  },
  {
   "cell_type": "code",
   "execution_count": 118,
   "id": "ac9f7c90-c5a4-4c5d-9994-be2a13fac1f2",
   "metadata": {},
   "outputs": [
    {
     "name": "stdout",
     "output_type": "stream",
     "text": [
      "[[ 1  2]\n",
      " [ 3  4]\n",
      " [ 5  6]\n",
      " [ 7  8]\n",
      " [ 9 10]]\n"
     ]
    }
   ],
   "source": [
    "n=np.reshape(a,(5,2))\n",
    "print(n)"
   ]
  },
  {
   "cell_type": "code",
   "execution_count": null,
   "id": "9e20d7b3-c590-4bec-acbd-02961792eb19",
   "metadata": {},
   "outputs": [],
   "source": []
  }
 ],
 "metadata": {
  "kernelspec": {
   "display_name": "Python 3 (ipykernel)",
   "language": "python",
   "name": "python3"
  },
  "language_info": {
   "codemirror_mode": {
    "name": "ipython",
    "version": 3
   },
   "file_extension": ".py",
   "mimetype": "text/x-python",
   "name": "python",
   "nbconvert_exporter": "python",
   "pygments_lexer": "ipython3",
   "version": "3.12.4"
  }
 },
 "nbformat": 4,
 "nbformat_minor": 5
}
