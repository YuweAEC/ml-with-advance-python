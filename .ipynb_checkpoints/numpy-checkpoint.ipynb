{
 "cells": [
  {
   "cell_type": "markdown",
   "id": "7c673456-82e8-4d1d-af25-09a47a83889d",
   "metadata": {},
   "source": [
    "### <font color=\"red\"> Numpy is a python library , stands for numerical python. it containd a collection of tools and techniques that can be used to solve on a computer mathematical models of problems"
   ]
  },
  {
   "cell_type": "code",
   "execution_count": 2,
   "id": "b54c5923-c2c5-4e6a-8ff5-52b4f49ee92e",
   "metadata": {},
   "outputs": [],
   "source": [
    "import numpy as np"
   ]
  },
  {
   "cell_type": "code",
   "execution_count": 3,
   "id": "a7e9584d-aee0-40b5-b497-28566cd2b046",
   "metadata": {},
   "outputs": [
    {
     "name": "stdout",
     "output_type": "stream",
     "text": [
      "1.26.4\n"
     ]
    }
   ],
   "source": [
    "print(np.__version__)"
   ]
  },
  {
   "cell_type": "code",
   "execution_count": 4,
   "id": "af41dbbc-deb1-4dbd-96c2-352cd2646cb2",
   "metadata": {},
   "outputs": [
    {
     "name": "stdout",
     "output_type": "stream",
     "text": [
      "[1 2 3 4]\n",
      "<class 'numpy.ndarray'>\n"
     ]
    }
   ],
   "source": [
    "#printing of the one dimensional array \n",
    "a= np.array([1,2,3,4])\n",
    "print(a)\n",
    "print(type(a))"
   ]
  },
  {
   "cell_type": "code",
   "execution_count": 5,
   "id": "a3d1056e-c8ca-4af6-bf9e-7902f86374f1",
   "metadata": {},
   "outputs": [
    {
     "name": "stdout",
     "output_type": "stream",
     "text": [
      "<class 'numpy.ndarray'>\n",
      "[[1 2 3]\n",
      " [4 5 6]]\n"
     ]
    }
   ],
   "source": [
    "#printing of the 2nd dimensional arrya\n",
    "b=np.array([[1,2,3,],[4,5,6]])\n",
    "print(type(b))\n",
    "print(b)"
   ]
  },
  {
   "cell_type": "code",
   "execution_count": 6,
   "id": "930c1424-d939-489e-9e90-46d70492182d",
   "metadata": {},
   "outputs": [
    {
     "name": "stdout",
     "output_type": "stream",
     "text": [
      "<class 'numpy.ndarray'>\n",
      "[[[1 2]\n",
      "  [3 4]]\n",
      "\n",
      " [[5 6]\n",
      "  [7 8]]]\n"
     ]
    }
   ],
   "source": [
    "#printing of the 3rd dimensional array\n",
    "c=np.array([[[1,2],[3,4]],[[5,6],[7,8]]])\n",
    "print(type(c))\n",
    "print(c)"
   ]
  },
  {
   "cell_type": "code",
   "execution_count": 7,
   "id": "714dddee-15bd-4127-a25e-d809408cba37",
   "metadata": {},
   "outputs": [
    {
     "name": "stdout",
     "output_type": "stream",
     "text": [
      "1\n",
      "2\n",
      "3\n"
     ]
    }
   ],
   "source": [
    "#dimnesion of the array checking \n",
    "print(a.ndim)\n",
    "print(b.ndim)\n",
    "print(c.ndim)\n"
   ]
  },
  {
   "cell_type": "markdown",
   "id": "046b6d02-d7b1-401b-96b2-13235e47881b",
   "metadata": {},
   "source": [
    "### shape - it return the shape of an array in tuple , it can also be used to resize the array "
   ]
  },
  {
   "cell_type": "code",
   "execution_count": 9,
   "id": "9dd0c552-7110-4f65-9789-14b07d6c2e91",
   "metadata": {},
   "outputs": [
    {
     "name": "stdout",
     "output_type": "stream",
     "text": [
      "(4,)\n",
      "(2, 3)\n",
      "(2, 2, 2)\n"
     ]
    }
   ],
   "source": [
    "print(a.shape)\n",
    "print(b.shape)\n",
    "print(c.shape)"
   ]
  },
  {
   "cell_type": "markdown",
   "id": "4a09acb4-4108-4a4e-be7b-0b0c41303280",
   "metadata": {},
   "source": [
    "### length - it return an array for n dimension , it return size of the first dimension\n"
   ]
  },
  {
   "cell_type": "code",
   "execution_count": 11,
   "id": "98f8f924-ad2a-4764-83ce-6183e428a66e",
   "metadata": {},
   "outputs": [
    {
     "name": "stdout",
     "output_type": "stream",
     "text": [
      "4\n",
      "2\n",
      "2\n"
     ]
    }
   ],
   "source": [
    "print(len(a))\n",
    "print(len(b))\n",
    "print(len(c))"
   ]
  },
  {
   "cell_type": "markdown",
   "id": "e6e80094-d10b-43a3-bcd9-3e60fcafceab",
   "metadata": {},
   "source": [
    "### dtype = it returns the datatype of an array"
   ]
  },
  {
   "cell_type": "code",
   "execution_count": 13,
   "id": "a3f387a9-c14a-4f72-a66e-78502523b378",
   "metadata": {},
   "outputs": [
    {
     "name": "stdout",
     "output_type": "stream",
     "text": [
      "int32\n",
      "int32\n",
      "int32\n",
      "complex128\n",
      "[1.+0.j 2.+0.j 3.+0.j 4.+0.j]\n"
     ]
    }
   ],
   "source": [
    "d=np.array([1,2,3,4],dtype='complex')\n",
    "print(a.dtype)\n",
    "print(b.dtype)\n",
    "print(c.dtype)\n",
    "print(d.dtype)\n",
    "print(d)"
   ]
  },
  {
   "cell_type": "markdown",
   "id": "0f632456-ee5a-4a49-95dd-3a86a2a56443",
   "metadata": {},
   "source": [
    "### size - it return the total nuber of the element inside the array "
   ]
  },
  {
   "cell_type": "code",
   "execution_count": 15,
   "id": "c6559c59-c0e2-499c-a805-dc0245ea24dc",
   "metadata": {},
   "outputs": [
    {
     "name": "stdout",
     "output_type": "stream",
     "text": [
      "4\n",
      "6\n",
      "8\n"
     ]
    }
   ],
   "source": [
    "print(a.size)\n",
    "print(b.size)\n",
    "print(c.size)"
   ]
  },
  {
   "cell_type": "markdown",
   "id": "55030939-0bb4-4b5a-a23e-11e648709735",
   "metadata": {},
   "source": [
    "### itemsize- it return elements of an array in bytes size"
   ]
  },
  {
   "cell_type": "code",
   "execution_count": 17,
   "id": "0b4914c1-347c-4b0a-a5e9-8fc947fefef3",
   "metadata": {},
   "outputs": [
    {
     "name": "stdout",
     "output_type": "stream",
     "text": [
      "4\n",
      "4\n",
      "4\n"
     ]
    }
   ],
   "source": [
    "print(a.itemsize)\n",
    "print(b.itemsize)\n",
    "print(c.itemsize)"
   ]
  },
  {
   "cell_type": "markdown",
   "id": "c15f05e6-683d-4214-8463-39b0f5668677",
   "metadata": {},
   "source": [
    "### why using number "
   ]
  },
  {
   "cell_type": "code",
   "execution_count": 19,
   "id": "7487098d-4ea9-4b80-a125-30e39047e62f",
   "metadata": {},
   "outputs": [
    {
     "name": "stdout",
     "output_type": "stream",
     "text": [
      "11 μs ± 1.31 μs per loop (mean ± std. dev. of 7 runs, 100,000 loops each)\n"
     ]
    }
   ],
   "source": [
    "#creating of the cube number from 1 to 100\n",
    "%timeit cube=[i**3 for i in range(100)]"
   ]
  },
  {
   "cell_type": "code",
   "execution_count": 20,
   "id": "edc0b540-40d2-4d57-803e-cd86834af2dd",
   "metadata": {},
   "outputs": [
    {
     "name": "stdout",
     "output_type": "stream",
     "text": [
      "1.74 μs ± 44.3 ns per loop (mean ± std. dev. of 7 runs, 1,000,000 loops each)\n"
     ]
    }
   ],
   "source": [
    "num=np.arange(100)\n",
    "%timeit num**3"
   ]
  },
  {
   "cell_type": "code",
   "execution_count": 21,
   "id": "079c390e-2fe1-47b1-9ba5-c47c74ead748",
   "metadata": {},
   "outputs": [],
   "source": [
    "#checking of the space"
   ]
  },
  {
   "cell_type": "code",
   "execution_count": 22,
   "id": "2d71314f-fadc-4194-a173-4928449e9379",
   "metadata": {},
   "outputs": [
    {
     "name": "stdout",
     "output_type": "stream",
     "text": [
      "Memory space in list  92000\n"
     ]
    }
   ],
   "source": [
    "import sys\n",
    "cube= [i**3 for i in range(100)]\n",
    "print(\"Memory space in list \",sys.getsizeof(cube)*len(cube))"
   ]
  },
  {
   "cell_type": "code",
   "execution_count": 23,
   "id": "d32c8447-c7c9-435f-a18a-dd57f7053da6",
   "metadata": {},
   "outputs": [
    {
     "name": "stdout",
     "output_type": "stream",
     "text": [
      "Memory allocated in numpy= 400\n"
     ]
    }
   ],
   "source": [
    "num=np.arange(100)\n",
    "cube=num**3\n",
    "print(\"Memory allocated in numpy=\",num.size*cube.itemsize)"
   ]
  },
  {
   "cell_type": "markdown",
   "id": "05de16db-8fb6-42b8-80ab-f80ffc07e61e",
   "metadata": {},
   "source": [
    "### Array creation using ones and zeros\n",
    "1. numpy.empty - return a new array of given space without initialising it\n"
   ]
  },
  {
   "cell_type": "code",
   "execution_count": 25,
   "id": "34cdfc40-1cf8-4621-a0ec-8c89ce61a5dd",
   "metadata": {},
   "outputs": [
    {
     "name": "stdout",
     "output_type": "stream",
     "text": [
      "[[0. 0. 0.]\n",
      " [0. 0. 0.]\n",
      " [0. 0. 0.]]\n"
     ]
    }
   ],
   "source": [
    "emp=np.empty((3,3))\n",
    "print(emp)"
   ]
  },
  {
   "cell_type": "markdown",
   "id": "b215dae5-401d-49a6-800e-ccb762dc0fb5",
   "metadata": {},
   "source": [
    "### numpy.zeros - return a new array of given shapes and type filled with zero"
   ]
  },
  {
   "cell_type": "code",
   "execution_count": 27,
   "id": "5f43d2a8-66a8-4516-bbad-a99b5cb07620",
   "metadata": {},
   "outputs": [
    {
     "name": "stdout",
     "output_type": "stream",
     "text": [
      "[[0. 0. 0. 0. 0.]\n",
      " [0. 0. 0. 0. 0.]\n",
      " [0. 0. 0. 0. 0.]\n",
      " [0. 0. 0. 0. 0.]\n",
      " [0. 0. 0. 0. 0.]]\n"
     ]
    }
   ],
   "source": [
    "z=np.zeros(shape=(5,5))\n",
    "print(z)"
   ]
  },
  {
   "cell_type": "markdown",
   "id": "ea18ab70-628f-4258-9ecf-fe41255e0ec5",
   "metadata": {},
   "source": [
    "### np.ones it returns a new aray yof givn shape with one filling"
   ]
  },
  {
   "cell_type": "code",
   "execution_count": 29,
   "id": "f6af0ec4-3e0b-44c6-8edc-59bb2c8d4238",
   "metadata": {},
   "outputs": [
    {
     "name": "stdout",
     "output_type": "stream",
     "text": [
      "[[1. 1. 1. 1.]\n",
      " [1. 1. 1. 1.]\n",
      " [1. 1. 1. 1.]\n",
      " [1. 1. 1. 1.]]\n"
     ]
    }
   ],
   "source": [
    "o=np.ones((4,4),dtype='float')\n",
    "print(o)"
   ]
  },
  {
   "cell_type": "markdown",
   "id": "3087b45a-20c2-46ba-a171-f1e8a50152fe",
   "metadata": {},
   "source": [
    "### np.eye- it return 2d array with 1 on the digonal and zeros elsewhere it is also called diagonal matrix"
   ]
  },
  {
   "cell_type": "code",
   "execution_count": 31,
   "id": "6b3a4374-cd5d-4e6a-9032-888db9dabc33",
   "metadata": {},
   "outputs": [
    {
     "name": "stdout",
     "output_type": "stream",
     "text": [
      "[[1 0 0 0]\n",
      " [0 1 0 0]\n",
      " [0 0 1 0]\n",
      " [0 0 0 1]]\n",
      "2\n"
     ]
    }
   ],
   "source": [
    "i=np.eye((4),dtype=np.uint16)\n",
    "print(i)\n",
    "print(i.itemsize)"
   ]
  },
  {
   "cell_type": "markdown",
   "id": "2efac719-899b-4088-b6eb-06205c4f1b14",
   "metadata": {},
   "source": [
    "### np.full it returns a new array of given shape and type filled with fill_value"
   ]
  },
  {
   "cell_type": "code",
   "execution_count": 33,
   "id": "2eacc1ce-2558-4a19-943b-a8495fd674ed",
   "metadata": {},
   "outputs": [
    {
     "name": "stdout",
     "output_type": "stream",
     "text": [
      "[[5. 5. 5. 5.]\n",
      " [5. 5. 5. 5.]\n",
      " [5. 5. 5. 5.]\n",
      " [5. 5. 5. 5.]]\n"
     ]
    }
   ],
   "source": [
    "f= np.full((4,4),fill_value=5,dtype='float32')\n",
    "print(f)"
   ]
  },
  {
   "cell_type": "markdown",
   "id": "fa3aeae8-5296-4905-8b73-75613fec4bff",
   "metadata": {},
   "source": [
    "### Array "
   ]
  },
  {
   "cell_type": "code",
   "execution_count": 35,
   "id": "cae42416-48bb-4c4d-9645-d99ba934de5c",
   "metadata": {},
   "outputs": [
    {
     "name": "stdout",
     "output_type": "stream",
     "text": [
      "[ 1  2  3  4  5  6  7  8  9 10]\n"
     ]
    }
   ],
   "source": [
    "a=np.arange(1,11)\n",
    "print(a)"
   ]
  },
  {
   "cell_type": "markdown",
   "id": "468b9cb7-7951-4620-94bc-d8fa18b65695",
   "metadata": {},
   "source": [
    "### using fo reshape it return new array of new shape"
   ]
  },
  {
   "cell_type": "code",
   "execution_count": 37,
   "id": "ac9f7c90-c5a4-4c5d-9994-be2a13fac1f2",
   "metadata": {},
   "outputs": [
    {
     "name": "stdout",
     "output_type": "stream",
     "text": [
      "[[ 1  2]\n",
      " [ 3  4]\n",
      " [ 5  6]\n",
      " [ 7  8]\n",
      " [ 9 10]]\n"
     ]
    }
   ],
   "source": [
    "n=np.reshape(a,(5,2))\n",
    "print(n)"
   ]
  },
  {
   "cell_type": "markdown",
   "id": "670e8b7e-7dca-45e0-a5e9-513b951eb633",
   "metadata": {},
   "source": [
    "### write a program to generate sin cos tan by using numpy inbuilt sin,cos,tan fucntion and the value rang will be lies between 0 to 4nultiplyPi with step of 0.1"
   ]
  },
  {
   "cell_type": "code",
   "execution_count": 39,
   "id": "2a810eb7-942c-48a7-a180-ba22c70036a0",
   "metadata": {},
   "outputs": [],
   "source": [
    "x=np.arange(0,np.pi*4,0.1)\n",
    "y1=np.sin(x)\n",
    "y2=np.cos(x)\n",
    "y3=np.tan(x)"
   ]
  },
  {
   "cell_type": "code",
   "execution_count": 40,
   "id": "10b062a7-3ba1-41ce-8067-29e09d25fc58",
   "metadata": {},
   "outputs": [
    {
     "data": {
      "image/png": "[encoded data removed]",
      "text/plain": [
       "<Figure size 1000x400 with 3 Axes>"
      ]
     },
     "metadata": {},
     "output_type": "display_data"
    }
   ],
   "source": [
    "import matplotlib.pyplot as plt\n",
    "plt.figure(figsize=(10,4))\n",
    "plt.subplot(1,3,1)\n",
    "plt.plot(x,y1)\n",
    "plt.title('sinx')\n",
    "plt.subplot(1,3,2)\n",
    "plt.plot(x,y2)\n",
    "plt.title('cosx')\n",
    "plt.subplot(1,3,3)\n",
    "plt.plot(x,y3)\n",
    "plt.title('tanx')\n",
    "plt.show()"
   ]
  },
  {
   "cell_type": "code",
   "execution_count": 55,
   "id": "48542a17-3548-43bf-989d-a908171481f8",
   "metadata": {},
   "outputs": [
    {
     "name": "stdout",
     "output_type": "stream",
     "text": [
      "50\n"
     ]
    }
   ],
   "source": [
    "a=np.linspace(1,5)\n",
    "print(len(a))"
   ]
  },
  {
   "cell_type": "code",
   "execution_count": 42,
   "id": "07ca6371-58ab-4a21-b331-6946e858ac06",
   "metadata": {},
   "outputs": [
    {
     "data": {
      "text/plain": [
       "array([1.        , 1.08163265, 1.16326531, 1.24489796, 1.32653061,\n",
       "       1.40816327, 1.48979592, 1.57142857, 1.65306122, 1.73469388,\n",
       "       1.81632653, 1.89795918, 1.97959184, 2.06122449, 2.14285714,\n",
       "       2.2244898 , 2.30612245, 2.3877551 , 2.46938776, 2.55102041,\n",
       "       2.63265306, 2.71428571, 2.79591837, 2.87755102, 2.95918367,\n",
       "       3.04081633, 3.12244898, 3.20408163, 3.28571429, 3.36734694,\n",
       "       3.44897959, 3.53061224, 3.6122449 , 3.69387755, 3.7755102 ,\n",
       "       3.85714286, 3.93877551, 4.02040816, 4.10204082, 4.18367347,\n",
       "       4.26530612, 4.34693878, 4.42857143, 4.51020408, 4.59183673,\n",
       "       4.67346939, 4.75510204, 4.83673469, 4.91836735, 5.        ])"
      ]
     },
     "execution_count": 42,
     "metadata": {},
     "output_type": "execute_result"
    }
   ],
   "source": [
    "a\n"
   ]
  },
  {
   "cell_type": "markdown",
   "id": "fce894e5-7dba-4ed0-83b2-2ed5c352aa08",
   "metadata": {},
   "source": [
    "### type conversion of list into array"
   ]
  },
  {
   "cell_type": "code",
   "execution_count": 73,
   "id": "2b465307-0afe-4dc7-a853-215f24670d2e",
   "metadata": {},
   "outputs": [
    {
     "name": "stdout",
     "output_type": "stream",
     "text": [
      "<class 'list'>\n",
      "1.0\n",
      "<class 'numpy.ndarray'>\n"
     ]
    }
   ],
   "source": [
    "l=[1,2,3,4,5,6,7]\n",
    "print(type(l))\n",
    "b=np.asarray(1,dtype='float32')\n",
    "print(b)\n",
    "print(type(b))"
   ]
  },
  {
   "cell_type": "markdown",
   "id": "8506315f-6fcf-4e36-98be-bcf6e3eff02e",
   "metadata": {},
   "source": [
    "### type conversion of list into complex"
   ]
  },
  {
   "cell_type": "code",
   "execution_count": 75,
   "id": "28aafc57-0583-49b2-bd25-2021d28624bd",
   "metadata": {},
   "outputs": [
    {
     "ename": "NameError",
     "evalue": "name 'shape' is not defined",
     "output_type": "error",
     "traceback": [
      "\u001b[1;31m---------------------------------------------------------------------------\u001b[0m",
      "\u001b[1;31mNameError\u001b[0m                                 Traceback (most recent call last)",
      "Cell \u001b[1;32mIn[75], line 1\u001b[0m\n\u001b[1;32m----> 1\u001b[0m a\u001b[38;5;241m=\u001b[39mnp\u001b[38;5;241m.\u001b[39mfull(shape(\u001b[38;5;241m3\u001b[39m,\u001b[38;5;241m3\u001b[39m),fill_value\u001b[38;5;241m=\u001b[39m\u001b[38;5;241m4\u001b[39m)\n\u001b[0;32m      2\u001b[0m a\n",
      "\u001b[1;31mNameError\u001b[0m: name 'shape' is not defined"
     ]
    }
   ],
   "source": [
    "a=np.full(shape(3,3),fill_value=4)\n",
    "a"
   ]
  },
  {
   "cell_type": "markdown",
   "id": "17842045-03f0-4e33-9cfa-52ec7d904fd2",
   "metadata": {},
   "source": [
    "### copy of array into another variable\n"
   ]
  },
  {
   "cell_type": "markdown",
   "id": "afa69a95-efde-466a-9710-441511b4bf17",
   "metadata": {},
   "source": [
    "### different datatype in numpy"
   ]
  },
  {
   "cell_type": "code",
   "execution_count": 80,
   "id": "23986dcb-c34c-4df2-970e-5fc9efd6fec6",
   "metadata": {},
   "outputs": [],
   "source": [
    "#creating the unsigned integer\n",
    "b=np.ones((3,3),dtype=np.uint16)"
   ]
  },
  {
   "cell_type": "code",
   "execution_count": 82,
   "id": "3faa4822-6ae3-4932-b74e-9cf728e48658",
   "metadata": {},
   "outputs": [
    {
     "data": {
      "text/plain": [
       "array([[1, 1, 1],\n",
       "       [1, 1, 1],\n",
       "       [1, 1, 1]], dtype=uint16)"
      ]
     },
     "execution_count": 82,
     "metadata": {},
     "output_type": "execute_result"
    }
   ],
   "source": [
    "b"
   ]
  },
  {
   "cell_type": "code",
   "execution_count": 87,
   "id": "4bfc4eb5-9622-4f9f-91ef-7bb91eca28a6",
   "metadata": {},
   "outputs": [
    {
     "name": "stdout",
     "output_type": "stream",
     "text": [
      "[ True False  True]\n",
      "bool\n"
     ]
    }
   ],
   "source": [
    "#boolean form\n",
    "d=np.array([True,False,True])\n",
    "print(d)\n",
    "print(d.dtype)"
   ]
  },
  {
   "cell_type": "code",
   "execution_count": 91,
   "id": "d603ab1a-4b04-41d4-8b8e-08a5327564a9",
   "metadata": {},
   "outputs": [
    {
     "data": {
      "text/plain": [
       "1"
      ]
     },
     "execution_count": 91,
     "metadata": {},
     "output_type": "execute_result"
    }
   ],
   "source": [
    "a=np.arange(1,11)\n",
    "a[0]"
   ]
  },
  {
   "cell_type": "code",
   "execution_count": 93,
   "id": "431dfaef-bef0-42be-ae46-a5b4e1e13f9c",
   "metadata": {},
   "outputs": [
    {
     "name": "stdout",
     "output_type": "stream",
     "text": [
      "the value of the index 5 is 5\n"
     ]
    }
   ],
   "source": [
    "print(\"the value of the index 5 is\",a[4])"
   ]
  },
  {
   "cell_type": "code",
   "execution_count": 95,
   "id": "d76d5f82-71cb-4695-a86a-5a85524dcabc",
   "metadata": {},
   "outputs": [
    {
     "data": {
      "text/plain": [
       "array([[1, 2, 3],\n",
       "       [4, 5, 6]])"
      ]
     },
     "execution_count": 95,
     "metadata": {},
     "output_type": "execute_result"
    }
   ],
   "source": [
    "b=np.array([[1,2,3],[4,5,6]])\n",
    "b"
   ]
  },
  {
   "cell_type": "code",
   "execution_count": null,
   "id": "3470a1c6-d823-4c93-aa2b-b276bc6faa43",
   "metadata": {},
   "outputs": [],
   "source": [
    "    "
   ]
  }
 ],
 "metadata": {
  "kernelspec": {
   "display_name": "Python 3 (ipykernel)",
   "language": "python",
   "name": "python3"
  },
  "language_info": {
   "codemirror_mode": {
    "name": "ipython",
    "version": 3
   },
   "file_extension": ".py",
   "mimetype": "text/x-python",
   "name": "python",
   "nbconvert_exporter": "python",
   "pygments_lexer": "ipython3",
   "version": "3.12.4"
  }
 },
 "nbformat": 4,
 "nbformat_minor": 5
}
