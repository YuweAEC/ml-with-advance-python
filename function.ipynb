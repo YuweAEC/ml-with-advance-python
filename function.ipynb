{
 "cells": [
  {
   "cell_type": "markdown",
   "id": "b8f375b9-b76e-4b6b-afe2-afea6fbb9567",
   "metadata": {},
   "source": [
    "##### Type of function\n",
    "1. Function with no argument\n",
    "2. Funtion with required argument\n",
    "3. Function with variable length of argument\n",
    "4. Function with keyword length of argument\n",
    "5. Funtion with default agrument"
   ]
  },
  {
   "cell_type": "code",
   "execution_count": 15,
   "id": "e2e24114-fbdc-4425-8829-98c6e5fe042a",
   "metadata": {},
   "outputs": [],
   "source": [
    "#add(10,20,30,40,50,60,70,80,90)\n",
    "def add(farg,*args):\n",
    "    print(\"The formal argument is \",farg)\n",
    "    s=0\n",
    "    for i in args:\n",
    "        s+=i\n",
    "    print(\"Sum of all numbers is \",farg+s)\n",
    "    return"
   ]
  },
  {
   "cell_type": "code",
   "execution_count": 17,
   "id": "33c88c32-dfc1-4b11-ada9-8574b50af076",
   "metadata": {},
   "outputs": [
    {
     "name": "stdout",
     "output_type": "stream",
     "text": [
      "The formal argument is  10\n",
      "Sum of all numbers is  450\n"
     ]
    }
   ],
   "source": [
    "add(10,20,30,40,50,60,70,80,90)\n"
   ]
  },
  {
   "cell_type": "code",
   "execution_count": 19,
   "id": "45083092-c45e-4c2f-a4f0-de4850a30e8e",
   "metadata": {},
   "outputs": [
    {
     "ename": "TypeError",
     "evalue": "ZMQDisplayPublisher.publish() got an unexpected keyword argument 'rno'",
     "output_type": "error",
     "traceback": [
      "\u001b[1;31m---------------------------------------------------------------------------\u001b[0m",
      "\u001b[1;31mTypeError\u001b[0m                                 Traceback (most recent call last)",
      "Cell \u001b[1;32mIn[19], line 1\u001b[0m\n\u001b[1;32m----> 1\u001b[0m display(\u001b[38;5;241m1\u001b[39m,rno\u001b[38;5;241m=\u001b[39m\u001b[38;5;241m10\u001b[39m, name\u001b[38;5;241m=\u001b[39m\u001b[38;5;124m'\u001b[39m\u001b[38;5;124marun\u001b[39m\u001b[38;5;124m'\u001b[39m,grade\u001b[38;5;241m=\u001b[39m\u001b[38;5;241m600\u001b[39m)\n",
      "File \u001b[1;32m~\\anaconda\\Lib\\site-packages\\IPython\\core\\display_functions.py:305\u001b[0m, in \u001b[0;36mdisplay\u001b[1;34m(include, exclude, metadata, transient, display_id, raw, clear, *objs, **kwargs)\u001b[0m\n\u001b[0;32m    302\u001b[0m         \u001b[38;5;28;01mif\u001b[39;00m metadata:\n\u001b[0;32m    303\u001b[0m             \u001b[38;5;66;03m# kwarg-specified metadata gets precedence\u001b[39;00m\n\u001b[0;32m    304\u001b[0m             _merge(md_dict, metadata)\n\u001b[1;32m--> 305\u001b[0m         publish_display_data(data\u001b[38;5;241m=\u001b[39mformat_dict, metadata\u001b[38;5;241m=\u001b[39mmd_dict, \u001b[38;5;241m*\u001b[39m\u001b[38;5;241m*\u001b[39mkwargs)\n\u001b[0;32m    306\u001b[0m \u001b[38;5;28;01mif\u001b[39;00m display_id:\n\u001b[0;32m    307\u001b[0m     \u001b[38;5;28;01mreturn\u001b[39;00m DisplayHandle(display_id)\n",
      "File \u001b[1;32m~\\anaconda\\Lib\\site-packages\\IPython\\core\\display_functions.py:93\u001b[0m, in \u001b[0;36mpublish_display_data\u001b[1;34m(data, metadata, source, transient, **kwargs)\u001b[0m\n\u001b[0;32m     90\u001b[0m \u001b[38;5;28;01mif\u001b[39;00m transient:\n\u001b[0;32m     91\u001b[0m     kwargs[\u001b[38;5;124m'\u001b[39m\u001b[38;5;124mtransient\u001b[39m\u001b[38;5;124m'\u001b[39m] \u001b[38;5;241m=\u001b[39m transient\n\u001b[1;32m---> 93\u001b[0m display_pub\u001b[38;5;241m.\u001b[39mpublish(\n\u001b[0;32m     94\u001b[0m     data\u001b[38;5;241m=\u001b[39mdata,\n\u001b[0;32m     95\u001b[0m     metadata\u001b[38;5;241m=\u001b[39mmetadata,\n\u001b[0;32m     96\u001b[0m     \u001b[38;5;241m*\u001b[39m\u001b[38;5;241m*\u001b[39mkwargs\n\u001b[0;32m     97\u001b[0m )\n",
      "\u001b[1;31mTypeError\u001b[0m: ZMQDisplayPublisher.publish() got an unexpected keyword argument 'rno'"
     ]
    }
   ],
   "source": [
    "display(1,rno=10, name='arun',grade=600)"
   ]
  },
  {
   "cell_type": "code",
   "execution_count": null,
   "id": "59baf9da-ede2-404f-8e8e-2f04a7796230",
   "metadata": {},
   "outputs": [],
   "source": []
  }
 ],
 "metadata": {
  "kernelspec": {
   "display_name": "Python 3 (ipykernel)",
   "language": "python",
   "name": "python3"
  },
  "language_info": {
   "codemirror_mode": {
    "name": "ipython",
    "version": 3
   },
   "file_extension": ".py",
   "mimetype": "text/x-python",
   "name": "python",
   "nbconvert_exporter": "python",
   "pygments_lexer": "ipython3",
   "version": "3.12.4"
  }
 },
 "nbformat": 4,
 "nbformat_minor": 5
}
